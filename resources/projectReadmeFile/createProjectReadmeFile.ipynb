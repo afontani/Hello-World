{
 "cells": [
  {
   "cell_type": "markdown",
   "metadata": {},
   "source": [
    "# Create the Project Folder README file\n",
    "\n",
    "**Author:** Anthony D. Fontanini, NREL\n",
    "\n",
    "**Date:** July, 19th, 2018\n",
    "\n",
    "This note book creates the README file in the project folder (`<project folder>`).  This notebook takes information about the housing characteristics from `<project folder>/resources/housing characteristics info.json` file, appends the `base_README.md` file, and writes the `<project folder>/README.md` file."
   ]
  },
  {
   "cell_type": "markdown",
   "metadata": {},
   "source": [
    "## Import Modules"
   ]
  },
  {
   "cell_type": "code",
   "execution_count": 1,
   "metadata": {},
   "outputs": [],
   "source": [
    "import numpy as np\n",
    "import json\n",
    "import os\n",
    "from shutil import copyfile"
   ]
  },
  {
   "cell_type": "markdown",
   "metadata": {},
   "source": [
    "## Function Definitions"
   ]
  },
  {
   "cell_type": "code",
   "execution_count": 2,
   "metadata": {},
   "outputs": [],
   "source": [
    "# Define a write a line in file function\n",
    "def writeLineInFile(line,filename,write_type):\n",
    "    with open(filename, write_type) as file:\n",
    "        file.write(line + '\\n')"
   ]
  },
  {
   "cell_type": "markdown",
   "metadata": {},
   "source": [
    "## Inputs"
   ]
  },
  {
   "cell_type": "code",
   "execution_count": 3,
   "metadata": {},
   "outputs": [],
   "source": [
    "# The base file to append\n",
    "base_file = 'base_README.md'\n",
    "\n",
    "# The output file (project folder README.md file)\n",
    "out_file = '../../README.md'"
   ]
  },
  {
   "cell_type": "markdown",
   "metadata": {},
   "source": [
    "## Load Data"
   ]
  },
  {
   "cell_type": "code",
   "execution_count": 4,
   "metadata": {
    "scrolled": true
   },
   "outputs": [],
   "source": [
    "# Load JSON file\n",
    "with open('../housing characteristics info.json') as f:\n",
    "    hcs = json.load(f)"
   ]
  },
  {
   "cell_type": "markdown",
   "metadata": {},
   "source": [
    "## Create a Markdown README file for the characteristics."
   ]
  },
  {
   "cell_type": "code",
   "execution_count": 5,
   "metadata": {},
   "outputs": [
    {
     "name": "stdout",
     "output_type": "stream",
     "text": [
      "## Area Mean Income\n",
      "## Bathroom Spot Vent Hour\n",
      "## Ceiling Fan\n",
      "## Clothes Dryer\n",
      "## Clothes Washer\n",
      "## Cooking Range\n",
      "## Cooling Setpoint\n",
      "## Days Shifted\n",
      "## Dehumidifier\n",
      "## Dishwasher\n",
      "## Door Area\n",
      "## Doors\n",
      "## Ducts\n",
      "## Eaves\n",
      "## Federal Poverty Level\n",
      "## Geometry Building Floors\n",
      "## Geometry Building Number Units MF\n",
      "## Geometry Building Number Units SFA\n",
      "## Geometry Building Type\n",
      "## Geometry Building Type RECS to ACS\n",
      "## Geometry Foundation Type\n",
      "## Geometry Garage\n",
      "## Geometry House Size\n",
      "## Geometry Is Multifamily Low Rise\n",
      "## Geometry Nearest Neighbor LeftRight\n",
      "## Geometry Number Units ACS bins\n",
      "## Geometry Perimeter Footprint Ratio\n",
      "## Geometry Shared Walls MF\n",
      "## Geometry Shared Walls SFA\n",
      "## Geometry Unit Stories MF\n",
      "## Geometry Unit Stories SF\n",
      "## HVAC System Central\n",
      "## HVAC System Combined\n",
      "## HVAC System Cooling\n",
      "## HVAC System Cooling Type\n",
      "## HVAC System Heating Electricity\n",
      "## HVAC System Heating Fuel Oil\n",
      "## HVAC System Heating Natural Gas\n",
      "## HVAC System Heating None\n",
      "## HVAC System Heating Other Fuel\n",
      "## HVAC System Heating Propane\n",
      "## HVAC System Is Central\n",
      "## HVAC System Is Combined\n",
      "## Heating Fuel\n",
      "## Heating Setpoint\n",
      "## Hot Water Distribution\n",
      "## Hot Water Fixtures\n",
      "## Infiltration\n",
      "## Insulation Crawlspace\n",
      "## Insulation Finished Basement\n",
      "## Insulation Finished Roof\n",
      "## Insulation Interzonal Floor\n",
      "## Insulation Pier Beam\n",
      "## Insulation Slab\n",
      "## Insulation Unfinished Attic\n",
      "## Insulation Unfinished Basement\n",
      "## Insulation Wall\n",
      "## Lighting\n",
      "## Location EPW\n",
      "## Location Region\n",
      "## Mechanical Ventilation\n",
      "## Misc Extra Refrigerator\n",
      "## Misc Freezer\n",
      "## Misc Gas Fireplace\n",
      "## Misc Gas Grill\n",
      "## Misc Gas Lighting\n",
      "## Misc Hot Tub Spa\n",
      "## Misc Pool\n",
      "## Misc Well Pump\n",
      "## Natural Ventilation\n",
      "## Occupants\n",
      "## Orientation\n",
      "## Overhangs\n",
      "## PV\n",
      "## Plug Loads\n",
      "## Range Spot Vent Hour\n",
      "## Refrigerator\n",
      "## Roof Material\n",
      "## Solar Hot Water\n",
      "## Usage Level\n",
      "## Vintage\n",
      "## Vintage ACS\n",
      "## Water Heater\n",
      "## Window Areas\n",
      "## Windows\n"
     ]
    }
   ],
   "source": [
    "# Copy base file so the information can be appended\n",
    "copyfile(base_file, out_file)\n",
    "\n",
    "# Loop over the housing characteristics\n",
    "for i in range(len(hcs['characteristics'])):\n",
    "    # Get the H2 string\n",
    "    h2_str = \"## \" + hcs['characteristics'][i]['name']\n",
    "    writeLineInFile(h2_str,out_file,'a')\n",
    "    print(h2_str)\n",
    "    \n",
    "    # Get the description\n",
    "    description_str = \"<u>Description:</u> \" + hcs['characteristics'][i]['features']['description']\n",
    "    writeLineInFile(description_str,out_file,'a')\n",
    "    writeLineInFile('',out_file,'a')\n",
    "    \n",
    "    # Get the Category\n",
    "    category_str = \"<u>Category:</u> \" + hcs['characteristics'][i]['features']['category']\n",
    "    writeLineInFile(category_str,out_file,'a')\n",
    "    writeLineInFile('',out_file,'a')\n",
    "\n",
    "    # Get the data sources, URLs, bibtex citation, and remarks\n",
    "    writeLineInFile('#### Data Sources:',out_file,'a')\n",
    "    writeLineInFile('',out_file,'a')\n",
    "\n",
    "    for j in range(len(hcs['characteristics'][i]['features']['data sources'])):\n",
    "        # Data Sources\n",
    "        data_sources_str = \"%d\" % (j+1) + \". \" + hcs['characteristics'][i]['features']['data sources'][j]['name']\n",
    "        if not (hcs['characteristics'][i]['features']['data sources'][j]['features']['url'] == 'NaN'):\n",
    "            data_sources_str = data_sources_str + \", (<\" + hcs['characteristics'][i]['features']['data sources'][j]['features']['url'] + \">)\"\n",
    "        writeLineInFile(data_sources_str,out_file,'a')\n",
    "        writeLineInFile('',out_file,'a')\n",
    "\n",
    "        # Get the Bibtex reference\n",
    "        if not (hcs['characteristics'][i]['features']['data sources'][j]['features']['bibtex'] == 'NaN'):\n",
    "            writeLineInFile('\\t<u>Bibtex Citation</u>',out_file,'a')\n",
    "            writeLineInFile('',out_file,'a')\n",
    "\n",
    "            tmp_str = hcs['characteristics'][i]['features']['data sources'][j]['features']['bibtex'].split('}, ')\n",
    "            cnt = 0\n",
    "            for part in tmp_str:\n",
    "                if cnt == 0:\n",
    "                    if len(tmp_str) == 1:\n",
    "                        bibtex_str = '\\t\\t' + part\n",
    "                    else:\n",
    "                        bibtex_str = '\\t\\t' + part + \"},\"\n",
    "                elif cnt == len(tmp_str)-1:\n",
    "                    bibtex_str = '\\t\\t\\t' + part\n",
    "                else:\n",
    "                    bibtex_str = '\\t\\t\\t' + part + \"},\"\n",
    "\n",
    "                # Don't write the file path to the document\n",
    "                if len(np.where('file = {' in bibtex_str)[0]) == 0:\n",
    "                    writeLineInFile(bibtex_str,out_file,'a')\n",
    "\n",
    "                cnt += 1\n",
    "            writeLineInFile('',out_file,'a')\n",
    "            \n",
    "        # Get remarks if any\n",
    "        if not (hcs['characteristics'][i]['features']['data sources'][j]['features']['remark'] == 'NaN'):\n",
    "            remark_str = '\\t<u>Remarks:</u> ' + hcs['characteristics'][i]['features']['data sources'][j]['features']['remark']\n",
    "            writeLineInFile(remark_str,out_file,'a')\n",
    "            writeLineInFile('',out_file,'a')\n",
    "                \n",
    "    # Get the Assumptions\n",
    "    writeLineInFile('#### Assumptions: ',out_file,'a')\n",
    "    writeLineInFile('',out_file,'a')\n",
    "    \n",
    "    assumptions_str = hcs['characteristics'][i]['features']['assumptions']\n",
    "    writeLineInFile(assumptions_str,out_file,'a')\n",
    "    writeLineInFile('',out_file,'a')\n",
    "    \n",
    "    # Get the Dependencies\n",
    "    writeLineInFile('#### Dependencies: ',out_file,'a')\n",
    "    writeLineInFile('',out_file,'a')\n",
    "    \n",
    "    for j in range(len(hcs['characteristics'][i]['features']['dependencies'])):\n",
    "        dependency_str = '- ' + hcs['characteristics'][i]['features']['dependencies'][j]\n",
    "        writeLineInFile(dependency_str,out_file,'a')\n",
    "    writeLineInFile('',out_file,'a')\n",
    "    \n",
    "    # Get the Options\n",
    "    writeLineInFile('#### Options: ',out_file,'a')\n",
    "    writeLineInFile('',out_file,'a')\n",
    "    \n",
    "    for j in range(len(hcs['characteristics'][i]['features']['options'])):\n",
    "        options_str = '- ' + hcs['characteristics'][i]['features']['options'][j]\n",
    "        writeLineInFile(options_str,out_file,'a')\n",
    "    writeLineInFile('',out_file,'a')\n",
    "    \n",
    "    # Write empty line to space out the characteristics\n",
    "    writeLineInFile('',out_file,'a')"
   ]
  },
  {
   "cell_type": "code",
   "execution_count": null,
   "metadata": {},
   "outputs": [],
   "source": []
  },
  {
   "cell_type": "code",
   "execution_count": null,
   "metadata": {},
   "outputs": [],
   "source": []
  },
  {
   "cell_type": "code",
   "execution_count": null,
   "metadata": {},
   "outputs": [],
   "source": []
  }
 ],
 "metadata": {
  "kernelspec": {
   "display_name": "Python 3",
   "language": "python",
   "name": "python3"
  },
  "language_info": {
   "codemirror_mode": {
    "name": "ipython",
    "version": 3
   },
   "file_extension": ".py",
   "mimetype": "text/x-python",
   "name": "python",
   "nbconvert_exporter": "python",
   "pygments_lexer": "ipython3",
   "version": "3.6.4"
  }
 },
 "nbformat": 4,
 "nbformat_minor": 2
}
